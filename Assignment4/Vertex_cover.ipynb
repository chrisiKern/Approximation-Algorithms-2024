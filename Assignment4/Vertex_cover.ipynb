{
  "nbformat": 4,
  "nbformat_minor": 0,
  "metadata": {
    "colab": {
      "provenance": []
    },
    "kernelspec": {
      "name": "python3",
      "display_name": "Python 3"
    },
    "language_info": {
      "name": "python"
    }
  },
  "cells": [
    {
      "cell_type": "code",
      "metadata": {
        "id": "3chJLlHO-6mA"
      },
      "source": [
        "# Fetch and import APX wrapper class\n",
        "!wget -q https://raw.githubusercontent.com/rasmus-pagh/apx/main/apx.py -O apx.py\n",
        "import apx\n",
        "from importlib import reload\n",
        "reload(apx)\n",
        "from apx import DataFile, LinearProgram, np"
      ],
      "execution_count": null,
      "outputs": []
    },
    {
      "cell_type": "markdown",
      "metadata": {
        "id": "OH612A96DyQG"
      },
      "source": [
        "## Solving a linear program and its dual"
      ]
    },
    {
      "cell_type": "code",
      "metadata": {
        "id": "TjwqTwnxrxSS",
        "colab": {
          "base_uri": "https://localhost:8080/"
        },
        "outputId": "6732b03b-f2b2-4bf8-85a4-2c74e3f1b841"
      },
      "source": [
        "mylp = LinearProgram('max')\n",
        "mylp.add_constraint({\"x1\": 4, \"x2\": 1}, 2)\n",
        "mylp.add_constraint(\"x1 + 2*x2\", 1)\n",
        "mylp.set_objective({\"x1\": 1, \"x2\": 1})\n",
        "print(mylp.to_string())\n",
        "print(mylp.solve())\n",
        "dual = mylp.dual()\n",
        "print(dual.to_string())\n",
        "print(dual.solve())\n",
        "print(dual.dual().to_string())\n",
        "print(dual.dual().solve())"
      ],
      "execution_count": null,
      "outputs": [
        {
          "output_type": "stream",
          "name": "stdout",
          "text": [
            "Maximize c x under A x <= b, x >= 0, where\n",
            "A=[[4. 1.]\n",
            " [1. 2.]]\n",
            "b=[2, 1]\n",
            "c=[1, 1]\n",
            "(0.7142857142857144, {'x1': -0.42857142857142855, 'x2': -0.2857142857142858})\n",
            "Minimize b y under A y >= c, y >= 0, where\n",
            "A=[[4. 1.]\n",
            " [1. 2.]]\n",
            "b=[2, 1]\n",
            "c=[1, 1]\n",
            "(0.7142857142857143, {'y1': 0.14285714285714285, 'y2': 0.4285714285714286})\n",
            "Maximize c x under A x <= b, x >= 0, where\n",
            "A=[[4. 1.]\n",
            " [1. 2.]]\n",
            "b=[2, 1]\n",
            "c=[1, 1]\n",
            "(0.7142857142857144, {'x1': -0.42857142857142855, 'x2': -0.2857142857142858})\n"
          ]
        },
        {
          "output_type": "stream",
          "name": "stderr",
          "text": [
            "/content/apx.py:137: OptimizeWarning: Unknown solver options: sym_pos, lstsq\n",
            "  res = linprog(sign * c, A_ub=-sign*A, b_ub=-sign*b, options={'sym_pos': False, 'lstsq': True})\n"
          ]
        }
      ]
    },
    {
      "cell_type": "markdown",
      "metadata": {
        "id": "U3RSya3mD4S7"
      },
      "source": [
        "# Approximating vertex cover"
      ]
    },
    {
      "cell_type": "code",
      "metadata": {
        "id": "oiAfQI9ir409",
        "colab": {
          "base_uri": "https://localhost:8080/"
        },
        "outputId": "d0733480-ea23-4d90-d658-47ce4de854a8"
      },
      "source": [
        "for filename in DataFile.graph_files:\n",
        "  graph = DataFile(filename)\n",
        "  vertex_cover_lp = LinearProgram('min')\n",
        "  objective = {}\n",
        "  for (u,v) in graph:\n",
        "    vertex_cover_lp.add_constraint({u: 1, v: 1}, 1)\n",
        "    objective[u] = 1.0\n",
        "    objective[v] = 1.0\n",
        "\n",
        "  vertex_cover_lp.set_objective(objective)\n",
        "  value, solution = vertex_cover_lp.solve()\n",
        "  rounded_value, rounded_solution = 0, {}\n",
        "  for x in solution:\n",
        "    r = int(np.round(solution[x] + 1e-10))\n",
        "    # Add small constant to deal with numerical issues for numbers close to 1/2\n",
        "    rounded_solution[x] = r\n",
        "    rounded_value += r\n",
        "\n",
        "  print(f'Graph: {filename}')\n",
        "  print(f'LP optimal value: {value}\\n{solution}')\n",
        "  print(f'Rounded LP value: {rounded_value}\\n{rounded_solution}')"
      ],
      "execution_count": null,
      "outputs": [
        {
          "output_type": "stream",
          "name": "stdout",
          "text": [
            "Graph: routes.txt\n",
            "LP optimal value: 5.0\n",
            "{'JFK': 0.5, 'MCO': 0.5, 'ORD': 0.5, 'DEN': 0.5, 'HOU': 0.5, 'DFW': 0.5, 'PHX': 0.5, 'ATL': 0.5, 'LAX': 0.5, 'LAS': 0.5}\n",
            "Rounded LP value: 10\n",
            "{'JFK': 1, 'MCO': 1, 'ORD': 1, 'DEN': 1, 'HOU': 1, 'DFW': 1, 'PHX': 1, 'ATL': 1, 'LAX': 1, 'LAS': 1}\n",
            "Graph: petersen.txt\n",
            "LP optimal value: 5.0\n",
            "{'A': 0.5, 'B': 0.5, 'C': 0.5, 'D': 0.5, 'E': 0.5, '1': 0.5, '3': 0.5, '5': 0.5, '2': 0.5, '4': 0.5}\n",
            "Rounded LP value: 10\n",
            "{'A': 1, 'B': 1, 'C': 1, 'D': 1, 'E': 1, '1': 1, '3': 1, '5': 1, '2': 1, '4': 1}\n",
            "Graph: petersenstar.txt\n",
            "LP optimal value: 6.0\n",
            "{'A': 0.5, 'B': 0.5, 'C': 0.5, 'D': 0.5, 'E': 0.5, '1': 0.5, '3': 0.5, '5': 0.5, '2': 0.5, '4': 0.5, '10': 1.0, '11': 0.0, '12': 0.0, '13': 0.0, '14': 0.0, '15': 0.0, '16': 0.0, '17': 0.0, '18': 0.0}\n",
            "Rounded LP value: 11\n",
            "{'A': 1, 'B': 1, 'C': 1, 'D': 1, 'E': 1, '1': 1, '3': 1, '5': 1, '2': 1, '4': 1, '10': 1, '11': 0, '12': 0, '13': 0, '14': 0, '15': 0, '16': 0, '17': 0, '18': 0}\n",
            "Graph: star.txt\n",
            "LP optimal value: 1.0\n",
            "{'1': 1.0, '2': 0.0, '3': 0.0, '4': 0.0, '5': 0.0, '6': 0.0, '7': 0.0, '8': 0.0, '9': 0.0}\n",
            "Rounded LP value: 1\n",
            "{'1': 1, '2': 0, '3': 0, '4': 0, '5': 0, '6': 0, '7': 0, '8': 0, '9': 0}\n",
            "Graph: clique.txt\n",
            "LP optimal value: 2.5\n",
            "{'1': 0.5, '2': 0.5, '3': 0.5, '4': 0.5, '5': 0.5}\n",
            "Rounded LP value: 5\n",
            "{'1': 1, '2': 1, '3': 1, '4': 1, '5': 1}\n",
            "Graph: cycles.txt\n",
            "LP optimal value: 3.5\n",
            "{'1': 0.5, '2': 0.5, '3': 0.5, '4': -0.0, '5': 1.0, '6': 0.0, '7': 1.0}\n",
            "Rounded LP value: 5\n",
            "{'1': 1, '2': 1, '3': 1, '4': 0, '5': 1, '6': 0, '7': 1}\n",
            "Graph: lotr.txt\n",
            "LP optimal value: 31.5\n",
            "{'Bilbo_Baggins': 1.0, 'Gandalf': 1.0, 'Thorin_Oakenshield': 0.0, 'Gollum': 1.0, 'Elrond_Peredhil': 0.5, 'Frodo_Baggins': 1.0, 'Hamfast_Gamgee': 0.5, 'Daddy_Twofoot': 0.5, 'Old_Noakes': 0.5, 'Sandyman': 0.5, 'Esmeralda_Took': 0.5, 'Rory_Brandybuck': 0.5, 'Odo_Proudfoot': 0.5, 'Everard_Took': 0.5, 'Melitot_Brandybuck': 0.5, 'Gold-berry': 0.0, 'Hugo_Bracegirdle': 0.0, 'Angelica_Baggins': 0.0, 'Milo_Burrows': 0.0, 'Dora_Baggins': 0.0, 'Adelard_Took': 0.0, 'Otho_Sackville-Baggins': -0.0, 'Meriadoc_Brandybuck': 1.0, 'Lobelia_Sackville-Baggins': 1.0, 'Sancho_Proudfoot': 0.0, 'Samwise_Gamgee': 1.0, 'Ted_Sandyman': 0.0, 'Aragorn_Elessar': 0.5, 'Deagol': 0.0, 'Fredegar_Bolger': 0.5, 'Folco_Boffin': 0.5, 'Peregrin_Took': 1.0, 'Lotho_Sackville-Baggins': 0.0, 'Nazgûl': 0.5, 'Gildor_Inglorion': 0.0, 'Maggot': 0.5, 'Tom_Bombadil': 1.0, 'Old_Man_Willow': -0.0, 'Bob': 0.5, 'Barliman_Butterbur': 0.5, 'Nob': 0.5, 'Bill_Ferny': 0.5, 'Lord_of_the_Nazgûl': 0.5, 'Glorfindel_of_Rivendell': 0.5, 'Gothmog': 0.5, 'Arwen_Evenstar': 0.5, 'Glóin': 0.5, 'Lindir': 0.5, 'Gimli': 0.5, 'Erestor': 0.5, 'Galdor': 0.5, 'Legolas_Greenleaf': 0.5, 'Boromir': 0.5, 'Saruman': 1.0, 'Radagast': 0.0, 'Gwaihir': 0.0, 'Elendil': 0.5, 'Gil-galad': 0.5, 'Isildur': 1.0, 'Anarion': 0.5, 'Valandil': 0.5, 'Sauron': 0.0, 'Elladan': 0.5, 'Elrohir': 0.5, 'Watcher_in_the_Water': 0.0, \"Durin's_Bane\": 0.0, 'Haldir': 0.5, 'Rumil': 0.5, 'Orophin': 0.5, 'Celeborn': 0.5, 'Galadriel': 0.5}\n",
            "Rounded LP value: 52\n",
            "{'Bilbo_Baggins': 1, 'Gandalf': 1, 'Thorin_Oakenshield': 0, 'Gollum': 1, 'Elrond_Peredhil': 1, 'Frodo_Baggins': 1, 'Hamfast_Gamgee': 1, 'Daddy_Twofoot': 1, 'Old_Noakes': 1, 'Sandyman': 1, 'Esmeralda_Took': 1, 'Rory_Brandybuck': 1, 'Odo_Proudfoot': 1, 'Everard_Took': 1, 'Melitot_Brandybuck': 1, 'Gold-berry': 0, 'Hugo_Bracegirdle': 0, 'Angelica_Baggins': 0, 'Milo_Burrows': 0, 'Dora_Baggins': 0, 'Adelard_Took': 0, 'Otho_Sackville-Baggins': 0, 'Meriadoc_Brandybuck': 1, 'Lobelia_Sackville-Baggins': 1, 'Sancho_Proudfoot': 0, 'Samwise_Gamgee': 1, 'Ted_Sandyman': 0, 'Aragorn_Elessar': 1, 'Deagol': 0, 'Fredegar_Bolger': 1, 'Folco_Boffin': 1, 'Peregrin_Took': 1, 'Lotho_Sackville-Baggins': 0, 'Nazgûl': 1, 'Gildor_Inglorion': 0, 'Maggot': 1, 'Tom_Bombadil': 1, 'Old_Man_Willow': 0, 'Bob': 1, 'Barliman_Butterbur': 1, 'Nob': 1, 'Bill_Ferny': 1, 'Lord_of_the_Nazgûl': 1, 'Glorfindel_of_Rivendell': 1, 'Gothmog': 1, 'Arwen_Evenstar': 1, 'Glóin': 1, 'Lindir': 1, 'Gimli': 1, 'Erestor': 1, 'Galdor': 1, 'Legolas_Greenleaf': 1, 'Boromir': 1, 'Saruman': 1, 'Radagast': 0, 'Gwaihir': 0, 'Elendil': 1, 'Gil-galad': 1, 'Isildur': 1, 'Anarion': 1, 'Valandil': 1, 'Sauron': 0, 'Elladan': 1, 'Elrohir': 1, 'Watcher_in_the_Water': 0, \"Durin's_Bane\": 0, 'Haldir': 1, 'Rumil': 1, 'Orophin': 1, 'Celeborn': 1, 'Galadriel': 1}\n",
            "Graph: karate.txt\n",
            "LP optimal value: 13.5\n",
            "{'2': 1.0, '1': 1.0, '3': 1.0, '4': 1.0, '5': 0.5, '6': 0.5, '7': 0.5, '8': 0.0, '9': 1.0, '10': -0.0, '11': 0.5, '12': 0.0, '13': 0.0, '14': 0.0, '17': 0.5, '18': 0.0, '20': 0.0, '22': 0.0, '26': -0.0, '24': 1.0, '25': 1.0, '28': -0.0, '29': -0.0, '30': 0.0, '27': 1.0, '31': -0.0, '32': 1.0, '33': 1.0, '15': -0.0, '16': 0.0, '19': 0.0, '21': 0.0, '23': 0.0, '34': 1.0}\n",
            "Rounded LP value: 16\n",
            "{'2': 1, '1': 1, '3': 1, '4': 1, '5': 1, '6': 1, '7': 1, '8': 0, '9': 1, '10': 0, '11': 1, '12': 0, '13': 0, '14': 0, '17': 1, '18': 0, '20': 0, '22': 0, '26': 0, '24': 1, '25': 1, '28': 0, '29': 0, '30': 0, '27': 1, '31': 0, '32': 1, '33': 1, '15': 0, '16': 0, '19': 0, '21': 0, '23': 0, '34': 1}\n",
            "Graph: noisybiclique.txt\n",
            "LP optimal value: 21.0\n",
            "{'0': 0.5, '1': 0.5, '3': 0.5, '5': 0.5, '8': 0.5, '9': 0.5, '11': 0.5, '13': 0.5, '15': 0.5, '20': 0.5, '21': 0.5, '22': 0.5, '23': 0.5, '25': 0.5, '28': 0.5, '30': 0.5, '35': 0.5, '37': 0.5, '39': 0.5, '2': 0.5, '4': 0.5, '12': 0.5, '14': 0.5, '16': 0.5, '19': 0.5, '24': 0.5, '26': 0.5, '27': 0.5, '31': 0.5, '32': 0.5, '36': 0.5, '38': 0.5, '40': 0.5, '41': 0.5, '6': 0.5, '10': 0.5, '17': 0.5, '33': 0.5, '18': 0.5, '29': 0.5, '34': 0.5, '7': 0.5}\n",
            "Rounded LP value: 42\n",
            "{'0': 1, '1': 1, '3': 1, '5': 1, '8': 1, '9': 1, '11': 1, '13': 1, '15': 1, '20': 1, '21': 1, '22': 1, '23': 1, '25': 1, '28': 1, '30': 1, '35': 1, '37': 1, '39': 1, '2': 1, '4': 1, '12': 1, '14': 1, '16': 1, '19': 1, '24': 1, '26': 1, '27': 1, '31': 1, '32': 1, '36': 1, '38': 1, '40': 1, '41': 1, '6': 1, '10': 1, '17': 1, '33': 1, '18': 1, '29': 1, '34': 1, '7': 1}\n"
          ]
        }
      ]
    },
    {
      "cell_type": "code",
      "source": [],
      "metadata": {
        "id": "6xwwidV-5snm"
      },
      "execution_count": null,
      "outputs": []
    }
  ]
}