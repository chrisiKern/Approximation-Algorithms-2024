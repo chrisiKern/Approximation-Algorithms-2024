{
 "nbformat": 4,
 "nbformat_minor": 0,
 "metadata": {
  "colab": {
   "provenance": []
  },
  "kernelspec": {
   "name": "python3",
   "language": "python",
   "display_name": "Python 3 (ipykernel)"
  },
  "language_info": {
   "name": "python"
  }
 },
 "cells": [
  {
   "cell_type": "code",
   "metadata": {
    "id": "3chJLlHO-6mA",
    "ExecuteTime": {
     "end_time": "2024-05-22T12:46:49.969761Z",
     "start_time": "2024-05-22T12:46:49.363057Z"
    }
   },
   "source": [
    "# Fetch and import APX wrapper class\n",
    "# !curl https://raw.githubusercontent.com/rasmus-pagh/apx/main/apx.py -o apx.py\n",
    "import apx\n",
    "from importlib import reload\n",
    "reload(apx)\n",
    "from apx import DataFile, LinearProgram, np\n",
    "import networkx as nx\n",
    "from itertools import combinations"
   ],
   "execution_count": 1,
   "outputs": []
  },
  {
   "cell_type": "markdown",
   "metadata": {
    "id": "U3RSya3mD4S7"
   },
   "source": [
    "# Approximating vertex cover"
   ]
  },
  {
   "cell_type": "code",
   "metadata": {
    "id": "oiAfQI9ir409",
    "colab": {
     "base_uri": "https://localhost:8080/"
    },
    "outputId": "d0733480-ea23-4d90-d658-47ce4de854a8",
    "ExecuteTime": {
     "end_time": "2024-05-22T13:25:38.563669Z",
     "start_time": "2024-05-22T13:25:38.554543Z"
    }
   },
   "source": [
    "def load_graph(filename):\n",
    "  graph = nx.Graph(name=filename)\n",
    "  for e in DataFile(filename):\n",
    "    graph.add_edge(*e)\n",
    "  return graph\n",
    "\n",
    "\n",
    "def round_solution(solution):\n",
    "    rounded_value, rounded_solution = 0, {}\n",
    "    for x, v in solution.items():\n",
    "        r = int(np.round(v + 1e-10))\n",
    "        # Add small constant to deal with numerical issues for numbers close to 1/2\n",
    "        rounded_solution[x] = r\n",
    "        rounded_value += r\n",
    "    return rounded_value, rounded_solution\n",
    "\n",
    "\n",
    "def vertex_cover_lp(graph, triangle_constraints=False):\n",
    "  lp = LinearProgram('min')\n",
    "  buckets = {}\n",
    "  objective = {}\n",
    "  \n",
    "  # Create objective and initialize buckets\n",
    "  for v in graph.nodes():\n",
    "    objective[v] = 1.0\n",
    "    buckets[v] = []\n",
    "  \n",
    "  # Add edge constraints and fill buckets\n",
    "  for (u,v) in graph.edges():\n",
    "    lp.add_constraint({u: 1, v: 1}, 1)\n",
    "    if graph.degree[u] <= graph.degree[v]:\n",
    "      buckets[u].append(v)\n",
    "    else:\n",
    "      buckets[v].append(u)\n",
    "          \n",
    "  # Add triangle constraints\n",
    "  if triangle_constraints:\n",
    "    for u, bucket in buckets.items():\n",
    "      for (v,w) in combinations(bucket, 2):\n",
    "        if graph.has_edge(v, w):\n",
    "          lp.add_constraint({u: 1, v: 1, w: 1}, 2)\n",
    "      \n",
    "  lp.set_objective(objective)\n",
    "  return lp\n"
   ],
   "execution_count": 10,
   "outputs": []
  },
  {
   "cell_type": "code",
   "outputs": [
    {
     "name": "stdout",
     "output_type": "stream",
     "text": [
      "======== routes.txt ========\n",
      "Without triangle constraints:\n",
      "\t- Solution: {'JFK': 0.5, 'MCO': 0.5, 'ATL': 0.5, 'ORD': 0.5, 'HOU': 0.5, 'DEN': 0.5, 'DFW': 0.5, 'PHX': 0.5, 'LAS': 0.5, 'LAX': 0.5}\n",
      "\t- Rounded: {'JFK': 1, 'MCO': 1, 'ATL': 1, 'ORD': 1, 'HOU': 1, 'DEN': 1, 'DFW': 1, 'PHX': 1, 'LAS': 1, 'LAX': 1}\n",
      "With triangle constraints:\n",
      "\t- Solution: {'JFK': 0.0, 'MCO': 1.0, 'ATL': 1.0, 'ORD': 1.0, 'HOU': 0.0, 'DEN': -0.0, 'DFW': 1.0, 'PHX': 1.0, 'LAS': 1.0, 'LAX': 0.0}\n",
      "\t- Rounded: {'JFK': 0, 'MCO': 1, 'ATL': 1, 'ORD': 1, 'HOU': 0, 'DEN': 0, 'DFW': 1, 'PHX': 1, 'LAS': 1, 'LAX': 0}\n",
      "\n",
      "======== petersen.txt ========\n",
      "Without triangle constraints:\n",
      "\t- Solution: {'A': 0.5, 'B': 0.5, 'E': 0.5, '1': 0.5, 'C': 0.5, '2': 0.5, 'D': 0.5, '3': 0.5, '4': 0.5, '5': 0.5}\n",
      "\t- Rounded: {'A': 1, 'B': 1, 'E': 1, '1': 1, 'C': 1, '2': 1, 'D': 1, '3': 1, '4': 1, '5': 1}\n",
      "With triangle constraints:\n",
      "\t- Solution: {'A': 0.5, 'B': 0.5, 'E': 0.5, '1': 0.5, 'C': 0.5, '2': 0.5, 'D': 0.5, '3': 0.5, '4': 0.5, '5': 0.5}\n",
      "\t- Rounded: {'A': 1, 'B': 1, 'E': 1, '1': 1, 'C': 1, '2': 1, 'D': 1, '3': 1, '4': 1, '5': 1}\n",
      "\n",
      "======== petersenstar.txt ========\n",
      "Without triangle constraints:\n",
      "\t- Solution: {'A': 0.5, 'B': 0.5, 'E': 0.5, '1': 0.5, 'C': 0.5, '2': 0.5, 'D': 0.5, '3': 0.5, '4': 0.5, '5': 0.5, '10': 1.0, '11': 0.0, '12': 0.0, '13': 0.0, '14': 0.0, '15': 0.0, '16': 0.0, '17': 0.0, '18': 0.0}\n",
      "\t- Rounded: {'A': 1, 'B': 1, 'E': 1, '1': 1, 'C': 1, '2': 1, 'D': 1, '3': 1, '4': 1, '5': 1, '10': 1, '11': 0, '12': 0, '13': 0, '14': 0, '15': 0, '16': 0, '17': 0, '18': 0}\n",
      "With triangle constraints:\n",
      "\t- Solution: {'A': 0.5, 'B': 0.5, 'E': 0.5, '1': 0.5, 'C': 0.5, '2': 0.5, 'D': 0.5, '3': 0.5, '4': 0.5, '5': 0.5, '10': 1.0, '11': 0.0, '12': 0.0, '13': 0.0, '14': 0.0, '15': 0.0, '16': 0.0, '17': 0.0, '18': 0.0}\n",
      "\t- Rounded: {'A': 1, 'B': 1, 'E': 1, '1': 1, 'C': 1, '2': 1, 'D': 1, '3': 1, '4': 1, '5': 1, '10': 1, '11': 0, '12': 0, '13': 0, '14': 0, '15': 0, '16': 0, '17': 0, '18': 0}\n",
      "\n",
      "======== star.txt ========\n",
      "Without triangle constraints:\n",
      "\t- Solution: {'1': 1.0, '2': 0.0, '3': 0.0, '4': 0.0, '5': 0.0, '6': 0.0, '7': 0.0, '8': 0.0, '9': 0.0}\n",
      "\t- Rounded: {'1': 1, '2': 0, '3': 0, '4': 0, '5': 0, '6': 0, '7': 0, '8': 0, '9': 0}\n",
      "With triangle constraints:\n",
      "\t- Solution: {'1': 1.0, '2': 0.0, '3': 0.0, '4': 0.0, '5': 0.0, '6': 0.0, '7': 0.0, '8': 0.0, '9': 0.0}\n",
      "\t- Rounded: {'1': 1, '2': 0, '3': 0, '4': 0, '5': 0, '6': 0, '7': 0, '8': 0, '9': 0}\n",
      "\n",
      "======== clique.txt ========\n",
      "Without triangle constraints:\n",
      "\t- Solution: {'1': 0.5, '2': 0.5, '3': 0.5, '4': 0.5, '5': 0.5}\n",
      "\t- Rounded: {'1': 1, '2': 1, '3': 1, '4': 1, '5': 1}\n",
      "With triangle constraints:\n",
      "\t- Solution: {'1': 0.6666666666666669, '2': 0.6666666666666666, '3': 0.6666666666666667, '4': 0.6666666666666666, '5': 0.6666666666666666}\n",
      "\t- Rounded: {'1': 1, '2': 1, '3': 1, '4': 1, '5': 1}\n",
      "\n",
      "======== cycles.txt ========\n",
      "Without triangle constraints:\n",
      "\t- Solution: {'1': 0.5, '2': 0.5, '3': 0.5, '4': 0.0, '5': 1.0, '7': 1.0, '6': -0.0}\n",
      "\t- Rounded: {'1': 1, '2': 1, '3': 1, '4': 0, '5': 1, '7': 1, '6': 0}\n",
      "With triangle constraints:\n",
      "\t- Solution: {'1': 1.0, '2': 0.0, '3': 1.0, '4': 0.0, '5': 1.0, '7': 1.0, '6': 0.0}\n",
      "\t- Rounded: {'1': 1, '2': 0, '3': 1, '4': 0, '5': 1, '7': 1, '6': 0}\n",
      "\n",
      "======== lotr.txt ========\n",
      "Without triangle constraints:\n",
      "\t- Solution: {'Bilbo_Baggins': 1.0, 'Gandalf': 1.0, 'Thorin_Oakenshield': 0.0, 'Gollum': 1.0, 'Elrond_Peredhil': 0.5, 'Frodo_Baggins': 1.0, 'Esmeralda_Took': 0.5, 'Rory_Brandybuck': 0.5, 'Odo_Proudfoot': 0.5, 'Everard_Took': 0.5, 'Melitot_Brandybuck': 0.5, 'Samwise_Gamgee': 1.0, 'Peregrin_Took': 1.0, 'Meriadoc_Brandybuck': 1.0, 'Glorfindel_of_Rivendell': 0.5, 'Arwen_Evenstar': 0.5, 'Glóin': 0.5, 'Aragorn_Elessar': 0.5, 'Lindir': 0.5, 'Gimli': 0.5, 'Erestor': 0.5, 'Galdor': 0.5, 'Legolas_Greenleaf': 0.5, 'Boromir': 0.5, 'Gold-berry': 0.0, 'Lobelia_Sackville-Baggins': 1.0, 'Saruman': 1.0, 'Radagast': 0.0, 'Gwaihir': 0.0, 'Bill_Ferny': 0.5, 'Nazgûl': 1.0, \"Durin's_Bane\": 0.0, 'Deagol': 0.0, 'Elendil': 0.5, 'Gil-galad': 0.5, 'Isildur': 1.0, 'Anarion': 0.5, 'Valandil': 0.5, 'Elladan': 0.5, 'Elrohir': 0.5, 'Hamfast_Gamgee': 0.5, 'Hugo_Bracegirdle': 0.0, 'Angelica_Baggins': 0.0, 'Milo_Burrows': 0.0, 'Dora_Baggins': 0.0, 'Adelard_Took': 0.0, 'Otho_Sackville-Baggins': 0.0, 'Sancho_Proudfoot': 0.0, 'Fredegar_Bolger': 1.0, 'Folco_Boffin': 0.0, 'Lotho_Sackville-Baggins': 0.0, 'Gildor_Inglorion': 0.0, 'Maggot': 0.0, 'Tom_Bombadil': 1.0, 'Old_Man_Willow': 0.0, 'Bob': 0.5, 'Barliman_Butterbur': 0.5, 'Nob': 0.5, 'Lord_of_the_Nazgûl': 0.5, 'Gothmog': 0.5, 'Watcher_in_the_Water': 0.0, 'Haldir': 0.5, 'Rumil': 0.5, 'Orophin': 0.5, 'Celeborn': 0.5, 'Galadriel': 0.5, 'Daddy_Twofoot': 0.5, 'Old_Noakes': 0.5, 'Sandyman': 0.5, 'Ted_Sandyman': 0.0, 'Sauron': 0.0}\n",
      "\t- Rounded: {'Bilbo_Baggins': 1, 'Gandalf': 1, 'Thorin_Oakenshield': 0, 'Gollum': 1, 'Elrond_Peredhil': 1, 'Frodo_Baggins': 1, 'Esmeralda_Took': 1, 'Rory_Brandybuck': 1, 'Odo_Proudfoot': 1, 'Everard_Took': 1, 'Melitot_Brandybuck': 1, 'Samwise_Gamgee': 1, 'Peregrin_Took': 1, 'Meriadoc_Brandybuck': 1, 'Glorfindel_of_Rivendell': 1, 'Arwen_Evenstar': 1, 'Glóin': 1, 'Aragorn_Elessar': 1, 'Lindir': 1, 'Gimli': 1, 'Erestor': 1, 'Galdor': 1, 'Legolas_Greenleaf': 1, 'Boromir': 1, 'Gold-berry': 0, 'Lobelia_Sackville-Baggins': 1, 'Saruman': 1, 'Radagast': 0, 'Gwaihir': 0, 'Bill_Ferny': 1, 'Nazgûl': 1, \"Durin's_Bane\": 0, 'Deagol': 0, 'Elendil': 1, 'Gil-galad': 1, 'Isildur': 1, 'Anarion': 1, 'Valandil': 1, 'Elladan': 1, 'Elrohir': 1, 'Hamfast_Gamgee': 1, 'Hugo_Bracegirdle': 0, 'Angelica_Baggins': 0, 'Milo_Burrows': 0, 'Dora_Baggins': 0, 'Adelard_Took': 0, 'Otho_Sackville-Baggins': 0, 'Sancho_Proudfoot': 0, 'Fredegar_Bolger': 1, 'Folco_Boffin': 0, 'Lotho_Sackville-Baggins': 0, 'Gildor_Inglorion': 0, 'Maggot': 0, 'Tom_Bombadil': 1, 'Old_Man_Willow': 0, 'Bob': 1, 'Barliman_Butterbur': 1, 'Nob': 1, 'Lord_of_the_Nazgûl': 1, 'Gothmog': 1, 'Watcher_in_the_Water': 0, 'Haldir': 1, 'Rumil': 1, 'Orophin': 1, 'Celeborn': 1, 'Galadriel': 1, 'Daddy_Twofoot': 1, 'Old_Noakes': 1, 'Sandyman': 1, 'Ted_Sandyman': 0, 'Sauron': 0}\n",
      "With triangle constraints:\n",
      "\t- Solution: {'Bilbo_Baggins': 0.6666666666666667, 'Gandalf': 1.0, 'Thorin_Oakenshield': 0.33333333333333326, 'Gollum': 1.0, 'Elrond_Peredhil': 1.0, 'Frodo_Baggins': 1.0, 'Esmeralda_Took': 0.6666666666666665, 'Rory_Brandybuck': 0.6666666666666667, 'Odo_Proudfoot': 0.6666666666666667, 'Everard_Took': 0.6666666666666667, 'Melitot_Brandybuck': 0.6666666666666666, 'Samwise_Gamgee': 1.0, 'Peregrin_Took': 1.0, 'Meriadoc_Brandybuck': 1.0, 'Glorfindel_of_Rivendell': 0.6666666666666666, 'Arwen_Evenstar': 0.6666666666666669, 'Glóin': 0.6666666666666666, 'Aragorn_Elessar': 0.6666666666666667, 'Lindir': 0.6666666666666666, 'Gimli': 0.6666666666666665, 'Erestor': 0.6666666666666666, 'Galdor': 0.6666666666666667, 'Legolas_Greenleaf': 0.6666666666666667, 'Boromir': 0.6666666666666667, 'Gold-berry': 0.0, 'Lobelia_Sackville-Baggins': 1.0, 'Saruman': 1.0, 'Radagast': 0.0, 'Gwaihir': 0.0, 'Bill_Ferny': 0.6666666666666667, 'Nazgûl': 1.0, \"Durin's_Bane\": 0.0, 'Deagol': 0.0, 'Elendil': 0.6666666666666666, 'Gil-galad': 0.6666666666666667, 'Isildur': 1.0, 'Anarion': 0.6666666666666667, 'Valandil': 0.6666666666666667, 'Elladan': 1.0, 'Elrohir': -0.0, 'Hamfast_Gamgee': 0.6666666666666666, 'Hugo_Bracegirdle': 0.0, 'Angelica_Baggins': 0.0, 'Milo_Burrows': 0.0, 'Dora_Baggins': 0.0, 'Adelard_Took': 0.0, 'Otho_Sackville-Baggins': -0.0, 'Sancho_Proudfoot': 0.0, 'Fredegar_Bolger': 1.0, 'Folco_Boffin': -0.0, 'Lotho_Sackville-Baggins': 0.0, 'Gildor_Inglorion': 0.0, 'Maggot': 0.0, 'Tom_Bombadil': 1.0, 'Old_Man_Willow': 0.0, 'Bob': 0.6666666666666666, 'Barliman_Butterbur': 0.6666666666666667, 'Nob': 0.6666666666666667, 'Lord_of_the_Nazgûl': 0.6666666666666665, 'Gothmog': 0.6666666666666667, 'Watcher_in_the_Water': 0.0, 'Haldir': 0.6666666666666667, 'Rumil': 0.6666666666666667, 'Orophin': 0.6666666666666665, 'Celeborn': 0.6666666666666667, 'Galadriel': 0.6666666666666667, 'Daddy_Twofoot': 0.6666666666666667, 'Old_Noakes': 0.6666666666666667, 'Sandyman': 0.6666666666666667, 'Ted_Sandyman': 0.0, 'Sauron': 0.0}\n",
      "\t- Rounded: {'Bilbo_Baggins': 1, 'Gandalf': 1, 'Thorin_Oakenshield': 0, 'Gollum': 1, 'Elrond_Peredhil': 1, 'Frodo_Baggins': 1, 'Esmeralda_Took': 1, 'Rory_Brandybuck': 1, 'Odo_Proudfoot': 1, 'Everard_Took': 1, 'Melitot_Brandybuck': 1, 'Samwise_Gamgee': 1, 'Peregrin_Took': 1, 'Meriadoc_Brandybuck': 1, 'Glorfindel_of_Rivendell': 1, 'Arwen_Evenstar': 1, 'Glóin': 1, 'Aragorn_Elessar': 1, 'Lindir': 1, 'Gimli': 1, 'Erestor': 1, 'Galdor': 1, 'Legolas_Greenleaf': 1, 'Boromir': 1, 'Gold-berry': 0, 'Lobelia_Sackville-Baggins': 1, 'Saruman': 1, 'Radagast': 0, 'Gwaihir': 0, 'Bill_Ferny': 1, 'Nazgûl': 1, \"Durin's_Bane\": 0, 'Deagol': 0, 'Elendil': 1, 'Gil-galad': 1, 'Isildur': 1, 'Anarion': 1, 'Valandil': 1, 'Elladan': 1, 'Elrohir': 0, 'Hamfast_Gamgee': 1, 'Hugo_Bracegirdle': 0, 'Angelica_Baggins': 0, 'Milo_Burrows': 0, 'Dora_Baggins': 0, 'Adelard_Took': 0, 'Otho_Sackville-Baggins': 0, 'Sancho_Proudfoot': 0, 'Fredegar_Bolger': 1, 'Folco_Boffin': 0, 'Lotho_Sackville-Baggins': 0, 'Gildor_Inglorion': 0, 'Maggot': 0, 'Tom_Bombadil': 1, 'Old_Man_Willow': 0, 'Bob': 1, 'Barliman_Butterbur': 1, 'Nob': 1, 'Lord_of_the_Nazgûl': 1, 'Gothmog': 1, 'Watcher_in_the_Water': 0, 'Haldir': 1, 'Rumil': 1, 'Orophin': 1, 'Celeborn': 1, 'Galadriel': 1, 'Daddy_Twofoot': 1, 'Old_Noakes': 1, 'Sandyman': 1, 'Ted_Sandyman': 0, 'Sauron': 0}\n",
      "\n",
      "======== karate.txt ========\n",
      "Without triangle constraints:\n",
      "\t- Solution: {'2': 1.0, '1': 1.0, '3': 1.0, '4': 1.0, '8': 0.0, '14': 0.0, '18': 0.0, '20': 0.0, '22': 0.0, '31': 1.0, '5': 0.5, '6': 0.5, '7': 0.5, '9': -0.0, '11': 0.5, '12': 0.0, '13': 0.0, '32': 1.0, '10': 0.0, '28': 1.0, '29': 0.0, '33': 1.0, '17': 0.5, '34': 1.0, '26': 1.0, '24': -0.0, '25': 0.0, '30': 1.0, '27': -0.0, '15': 0.0, '16': 0.0, '19': 0.0, '21': 0.0, '23': -0.0}\n",
      "\t- Rounded: {'2': 1, '1': 1, '3': 1, '4': 1, '8': 0, '14': 0, '18': 0, '20': 0, '22': 0, '31': 1, '5': 1, '6': 1, '7': 1, '9': 0, '11': 1, '12': 0, '13': 0, '32': 1, '10': 0, '28': 1, '29': 0, '33': 1, '17': 1, '34': 1, '26': 1, '24': 0, '25': 0, '30': 1, '27': 0, '15': 0, '16': 0, '19': 0, '21': 0, '23': 0}\n",
      "With triangle constraints:\n",
      "\t- Solution: {'2': 1.0, '1': 1.0, '3': 1.0, '4': 1.0, '8': -0.0, '14': 0.0, '18': 0.0, '20': 0.0, '22': 0.0, '31': 1.0, '5': 0.0, '6': 1.0, '7': 1.0, '9': -0.0, '11': 1.0, '12': 0.0, '13': 0.0, '32': 1.0, '10': 0.0, '28': 1.0, '29': 0.0, '33': 1.0, '17': 0.0, '34': 1.0, '26': 1.0, '24': -0.0, '25': -0.0, '30': 1.0, '27': 0.0, '15': 0.0, '16': 0.0, '19': 0.0, '21': 0.0, '23': 0.0}\n",
      "\t- Rounded: {'2': 1, '1': 1, '3': 1, '4': 1, '8': 0, '14': 0, '18': 0, '20': 0, '22': 0, '31': 1, '5': 0, '6': 1, '7': 1, '9': 0, '11': 1, '12': 0, '13': 0, '32': 1, '10': 0, '28': 1, '29': 0, '33': 1, '17': 0, '34': 1, '26': 1, '24': 0, '25': 0, '30': 1, '27': 0, '15': 0, '16': 0, '19': 0, '21': 0, '23': 0}\n",
      "\n",
      "======== noisybiclique.txt ========\n",
      "Without triangle constraints:\n",
      "\t- Solution: {'0': 0.5, '1': 0.5, '3': 0.5, '5': 0.5, '8': 0.5, '9': 0.5, '11': 0.5, '13': 0.5, '15': 0.5, '20': 0.5, '21': 0.5, '22': 0.5, '23': 0.5, '25': 0.5, '28': 0.5, '30': 0.5, '35': 0.5, '37': 0.5, '39': 0.5, '2': 0.5, '4': 0.5, '12': 0.5, '14': 0.5, '16': 0.5, '19': 0.5, '24': 0.5, '26': 0.5, '27': 0.5, '31': 0.5, '32': 0.5, '36': 0.5, '38': 0.5, '40': 0.5, '41': 0.5, '6': 0.5, '10': 0.5, '17': 0.5, '18': 0.5, '29': 0.5, '33': 0.5, '34': 0.5, '7': 0.5}\n",
      "\t- Rounded: {'0': 1, '1': 1, '3': 1, '5': 1, '8': 1, '9': 1, '11': 1, '13': 1, '15': 1, '20': 1, '21': 1, '22': 1, '23': 1, '25': 1, '28': 1, '30': 1, '35': 1, '37': 1, '39': 1, '2': 1, '4': 1, '12': 1, '14': 1, '16': 1, '19': 1, '24': 1, '26': 1, '27': 1, '31': 1, '32': 1, '36': 1, '38': 1, '40': 1, '41': 1, '6': 1, '10': 1, '17': 1, '18': 1, '29': 1, '33': 1, '34': 1, '7': 1}\n",
      "With triangle constraints:\n",
      "\t- Solution: {'0': 0.6666666666666674, '1': 0.666666666666667, '3': 0.6666666666666665, '5': 0.666666666666666, '8': 0.6666666666666665, '9': 0.666666666666667, '11': 0.6666666666666647, '13': 0.6666666666666677, '15': 0.6666666666666656, '20': 0.6666666666666661, '21': 0.6666666666666674, '22': 0.6666666666666675, '23': 0.6666666666666674, '25': 0.6666666666666674, '28': 0.6666666666666665, '30': 0.6666666666666652, '35': 0.6666666666666652, '37': 0.6666666666666657, '39': 0.666666666666667, '2': 0.6666666666666665, '4': 0.6666666666666679, '12': 0.6666666666666665, '14': 0.6666666666666674, '16': 0.6666666666666679, '19': 0.6666666666666655, '24': 0.6666666666666666, '26': 0.666666666666667, '27': 0.6666666666666675, '31': 0.6666666666666665, '32': 0.6666666666666674, '36': 0.6666666666666656, '38': 0.6666666666666662, '40': 0.6666666666666656, '41': 0.6666666666666674, '6': 0.6666666666666669, '10': 0.6666666666666661, '17': 0.6666666666666669, '18': 0.6666666666666683, '29': 0.666666666666667, '33': 0.6666666666666656, '34': 0.666666666666667, '7': 0.6666666666666669}\n",
      "\t- Rounded: {'0': 1, '1': 1, '3': 1, '5': 1, '8': 1, '9': 1, '11': 1, '13': 1, '15': 1, '20': 1, '21': 1, '22': 1, '23': 1, '25': 1, '28': 1, '30': 1, '35': 1, '37': 1, '39': 1, '2': 1, '4': 1, '12': 1, '14': 1, '16': 1, '19': 1, '24': 1, '26': 1, '27': 1, '31': 1, '32': 1, '36': 1, '38': 1, '40': 1, '41': 1, '6': 1, '10': 1, '17': 1, '18': 1, '29': 1, '33': 1, '34': 1, '7': 1}\n",
      "\n",
      "Graph & Value & Rounded value & Value & Rounded Value\\\\\n",
      "\\hline\n",
      "\\lstinline|routes.txt| & 5.00 & 10 & 6.00 & 6\\\\\n",
      "\\lstinline|petersen.txt| & 5.00 & 10 & 5.00 & 10\\\\\n",
      "\\lstinline|petersenstar.txt| & 6.00 & 11 & 6.00 & 11\\\\\n",
      "\\lstinline|star.txt| & 1.00 & 1 & 1.00 & 1\\\\\n",
      "\\lstinline|clique.txt| & 2.50 & 5 & 3.33 & 5\\\\\n",
      "\\lstinline|cycles.txt| & 3.50 & 5 & 4.00 & 4\\\\\n",
      "\\lstinline|lotr.txt| & 31.50 & 50 & 37.67 & 49\\\\\n",
      "\\lstinline|karate.txt| & 13.50 & 16 & 14.00 & 14\\\\\n",
      "\\lstinline|noisybiclique.txt| & 21.00 & 42 & 28.00 & 42\\\\\n"
     ]
    }
   ],
   "source": [
    "table = f\"Graph & Value & Rounded value & Value & Rounded Value\\\\\\\\\\n\\\\hline\\n\"\n",
    "\n",
    "for filename in DataFile.graph_files:\n",
    "  graph = load_graph(filename)\n",
    "  \n",
    "  lp = vertex_cover_lp(graph)\n",
    "  value, solution = lp.solve()\n",
    "  rounded_value, rounded_solution = round_solution(solution)\n",
    "  \n",
    "  lp_t = vertex_cover_lp(graph, triangle_constraints=True)\n",
    "  value_t, solution_t = lp_t.solve()\n",
    "  rounded_value_t, rounded_solution_t = round_solution(solution_t)\n",
    "  \n",
    "  print(f\"======== {filename} ========\")\n",
    "  print(\"Without triangle constraints:\")\n",
    "  print(f\"\\t- Solution: {solution}\")\n",
    "  print(f\"\\t- Rounded: {rounded_solution}\")\n",
    "  print(\"With triangle constraints:\")\n",
    "  print(f\"\\t- Solution: {solution_t}\")\n",
    "  print(f\"\\t- Rounded: {rounded_solution_t}\\n\")\n",
    "  \n",
    "  table += f\"\\\\lstinline|{filename}| & {value:.2f} & {rounded_value} & {value_t:.2f} & {rounded_value_t}\\\\\\\\\\n\"\n",
    "\n",
    "print(table)"
   ],
   "metadata": {
    "collapsed": false,
    "ExecuteTime": {
     "end_time": "2024-05-22T13:25:39.973911Z",
     "start_time": "2024-05-22T13:25:39.921879Z"
    }
   },
   "execution_count": 11
  }
 ]
}
